{
 "cells": [
  {
   "cell_type": "code",
   "execution_count": 1,
   "metadata": {},
   "outputs": [],
   "source": [
    "import pickle"
   ]
  },
  {
   "cell_type": "code",
   "execution_count": null,
   "metadata": {},
   "outputs": [],
   "source": []
  },
  {
   "cell_type": "code",
   "execution_count": 6,
   "metadata": {},
   "outputs": [],
   "source": [
    "from transformers import AutoTokenizer\n"
   ]
  },
  {
   "cell_type": "code",
   "execution_count": 7,
   "metadata": {},
   "outputs": [],
   "source": [
    "tokenizer = AutoTokenizer.from_pretrained(\"navjordj/gpt2_no\")"
   ]
  },
  {
   "cell_type": "code",
   "execution_count": 2,
   "metadata": {},
   "outputs": [],
   "source": [
    "with open(\"tokenized_dataset.pkl\", \"rb\") as f:\n",
    "    tokenized_dataset = pickle.load(f)"
   ]
  },
  {
   "cell_type": "code",
   "execution_count": 3,
   "metadata": {},
   "outputs": [
    {
     "data": {
      "text/plain": [
       "DatasetDict({\n",
       "    train: Dataset({\n",
       "        features: ['attention_mask', 'input_ids'],\n",
       "        num_rows: 2906946\n",
       "    })\n",
       "    validation: Dataset({\n",
       "        features: ['attention_mask', 'input_ids'],\n",
       "        num_rows: 322994\n",
       "    })\n",
       "})"
      ]
     },
     "execution_count": 3,
     "metadata": {},
     "output_type": "execute_result"
    }
   ],
   "source": [
    "tokenized_dataset"
   ]
  },
  {
   "cell_type": "code",
   "execution_count": 8,
   "metadata": {},
   "outputs": [
    {
     "data": {
      "text/plain": [
       "[55,\n",
       " 5288,\n",
       " 15209,\n",
       " 3686,\n",
       " 12184,\n",
       " 281,\n",
       " 6859,\n",
       " 16,\n",
       " 281,\n",
       " 9798,\n",
       " 24001,\n",
       " 300,\n",
       " 860,\n",
       " 42997,\n",
       " 312,\n",
       " 19028,\n",
       " 12609,\n",
       " 18,\n",
       " 2785,\n",
       " 18]"
      ]
     },
     "execution_count": 8,
     "metadata": {},
     "output_type": "execute_result"
    }
   ],
   "source": [
    "tokenized_dataset[\"train\"][0][\"input_ids\"]"
   ]
  },
  {
   "cell_type": "code",
   "execution_count": 16,
   "metadata": {},
   "outputs": [
    {
     "data": {
      "text/plain": [
       "'Slett midlertidige internett filer og informasjonskapsler, og følg guiden til din browser på wikihow.com.'"
      ]
     },
     "execution_count": 16,
     "metadata": {},
     "output_type": "execute_result"
    }
   ],
   "source": [
    "tokenizer.decode(tokenized_dataset[\"train\"][0][\"input_ids\"])"
   ]
  },
  {
   "cell_type": "code",
   "execution_count": 11,
   "metadata": {},
   "outputs": [],
   "source": [
    "import sys"
   ]
  },
  {
   "cell_type": "code",
   "execution_count": 12,
   "metadata": {},
   "outputs": [
    {
     "data": {
      "text/plain": [
       "256"
      ]
     },
     "execution_count": 12,
     "metadata": {},
     "output_type": "execute_result"
    }
   ],
   "source": [
    "sys.getsizeof(tokenized_dataset)"
   ]
  },
  {
   "cell_type": "code",
   "execution_count": 18,
   "metadata": {},
   "outputs": [
    {
     "data": {
      "text/plain": [
       "Dataset({\n",
       "    features: ['attention_mask', 'input_ids'],\n",
       "    num_rows: 2906946\n",
       "})"
      ]
     },
     "execution_count": 18,
     "metadata": {},
     "output_type": "execute_result"
    }
   ],
   "source": [
    "tokenized_dataset[\"train\"]"
   ]
  },
  {
   "cell_type": "code",
   "execution_count": 24,
   "metadata": {},
   "outputs": [
    {
     "data": {
      "text/plain": [
       "{'train': ['attention_mask', 'input_ids'],\n",
       " 'validation': ['attention_mask', 'input_ids']}"
      ]
     },
     "execution_count": 24,
     "metadata": {},
     "output_type": "execute_result"
    }
   ],
   "source": [
    "tokenized_dataset.column_names"
   ]
  },
  {
   "cell_type": "code",
   "execution_count": 32,
   "metadata": {},
   "outputs": [
    {
     "data": {
      "text/plain": [
       "[{'filename': 'C:\\\\Users\\\\jorgen\\\\.cache\\\\huggingface\\\\datasets\\\\oscar\\\\unshuffled_deduplicated_no\\\\1.0.0\\\\84838bd49d2295f62008383b05620571535451d84545037bb94d6f3501651df2\\\\cache-55b9d8a5ee265e86.arrow'},\n",
       " {'filename': 'C:\\\\Users\\\\jorgen\\\\.cache\\\\huggingface\\\\datasets\\\\oscar\\\\unshuffled_deduplicated_no\\\\1.0.0\\\\84838bd49d2295f62008383b05620571535451d84545037bb94d6f3501651df2\\\\cache-5555713d295d7961.arrow'},\n",
       " {'filename': 'C:\\\\Users\\\\jorgen\\\\.cache\\\\huggingface\\\\datasets\\\\oscar\\\\unshuffled_deduplicated_no\\\\1.0.0\\\\84838bd49d2295f62008383b05620571535451d84545037bb94d6f3501651df2\\\\cache-994c582f93abaff5.arrow'},\n",
       " {'filename': 'C:\\\\Users\\\\jorgen\\\\.cache\\\\huggingface\\\\datasets\\\\oscar\\\\unshuffled_deduplicated_no\\\\1.0.0\\\\84838bd49d2295f62008383b05620571535451d84545037bb94d6f3501651df2\\\\cache-3218350b4b20be80.arrow'},\n",
       " {'filename': 'C:\\\\Users\\\\jorgen\\\\.cache\\\\huggingface\\\\datasets\\\\oscar\\\\unshuffled_deduplicated_no\\\\1.0.0\\\\84838bd49d2295f62008383b05620571535451d84545037bb94d6f3501651df2\\\\cache-c90f3682529b426f.arrow'},\n",
       " {'filename': 'C:\\\\Users\\\\jorgen\\\\.cache\\\\huggingface\\\\datasets\\\\oscar\\\\unshuffled_deduplicated_no\\\\1.0.0\\\\84838bd49d2295f62008383b05620571535451d84545037bb94d6f3501651df2\\\\cache-4c957c5394fa444f.arrow'}]"
      ]
     },
     "execution_count": 32,
     "metadata": {},
     "output_type": "execute_result"
    }
   ],
   "source": [
    "tokenized_dataset[\"train\"].cache_files"
   ]
  },
  {
   "cell_type": "code",
   "execution_count": 36,
   "metadata": {},
   "outputs": [
    {
     "name": "stdout",
     "output_type": "stream",
     "text": [
      "None\n"
     ]
    }
   ],
   "source": [
    "print(tokenized_dataset[\"train\"].dataset_size)"
   ]
  },
  {
   "cell_type": "code",
   "execution_count": 37,
   "metadata": {},
   "outputs": [],
   "source": [
    "from datasets import total_allocated_bytes"
   ]
  },
  {
   "cell_type": "code",
   "execution_count": 38,
   "metadata": {},
   "outputs": [
    {
     "name": "stdout",
     "output_type": "stream",
     "text": [
      "For comparison, here is the number of bytes allocated in memory: 0\n"
     ]
    }
   ],
   "source": [
    "print(\"For comparison, here is the number of bytes allocated in memory:\", total_allocated_bytes())"
   ]
  },
  {
   "cell_type": "code",
   "execution_count": null,
   "metadata": {},
   "outputs": [],
   "source": []
  },
  {
   "cell_type": "code",
   "execution_count": 39,
   "metadata": {},
   "outputs": [],
   "source": [
    "from transformers import AutoConfig"
   ]
  },
  {
   "cell_type": "code",
   "execution_count": 42,
   "metadata": {},
   "outputs": [],
   "source": [
    "config = AutoConfig.from_pretrained(\"navjordj/gpt2_no\")"
   ]
  },
  {
   "cell_type": "code",
   "execution_count": 43,
   "metadata": {},
   "outputs": [
    {
     "data": {
      "text/plain": [
       "1024"
      ]
     },
     "execution_count": 43,
     "metadata": {},
     "output_type": "execute_result"
    }
   ],
   "source": [
    "config.max_position_embeddings"
   ]
  },
  {
   "cell_type": "code",
   "execution_count": 44,
   "metadata": {},
   "outputs": [
    {
     "data": {
      "text/plain": [
       "1000000000000000019884624838656"
      ]
     },
     "execution_count": 44,
     "metadata": {},
     "output_type": "execute_result"
    }
   ],
   "source": [
    "tokenizer.model_max_length"
   ]
  },
  {
   "cell_type": "code",
   "execution_count": null,
   "metadata": {},
   "outputs": [],
   "source": []
  }
 ],
 "metadata": {
  "interpreter": {
   "hash": "51fd10c971f0851c484a37193566c976f7ba0cc3025b80ecf871e58e7bfdad2b"
  },
  "kernelspec": {
   "display_name": "Python 3.7.7 64-bit ('base': conda)",
   "language": "python",
   "name": "python3"
  },
  "language_info": {
   "codemirror_mode": {
    "name": "ipython",
    "version": 3
   },
   "file_extension": ".py",
   "mimetype": "text/x-python",
   "name": "python",
   "nbconvert_exporter": "python",
   "pygments_lexer": "ipython3",
   "version": "3.7.7"
  },
  "orig_nbformat": 4
 },
 "nbformat": 4,
 "nbformat_minor": 2
}
